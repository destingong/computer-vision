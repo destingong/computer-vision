{
 "cells": [
  {
   "cell_type": "markdown",
   "metadata": {},
   "source": [
    "### Import Statements"
   ]
  },
  {
   "cell_type": "code",
   "execution_count": 1,
   "metadata": {},
   "outputs": [
    {
     "name": "stdout",
     "output_type": "stream",
     "text": [
      "\u001b[31mERROR: pip's dependency resolver does not currently take into account all the packages that are installed. This behaviour is the source of the following dependency conflicts.\n",
      "pathos 0.3.4 requires dill>=0.4.0, but you have dill 0.3.8 which is incompatible.\n",
      "pathos 0.3.4 requires multiprocess>=0.70.18, but you have multiprocess 0.70.16 which is incompatible.\u001b[0m\u001b[31m\n",
      "\u001b[0m"
     ]
    }
   ],
   "source": [
    "!pip install -q transformers datasets==4.0.0"
   ]
  },
  {
   "cell_type": "code",
   "execution_count": 14,
   "metadata": {},
   "outputs": [
    {
     "name": "stdout",
     "output_type": "stream",
     "text": [
      "Reading package lists... Done\n",
      "Building dependency tree... Done\n",
      "Reading state information... Done\n",
      "The following additional packages will be installed:\n",
      "  fontconfig fontconfig-config fonts-dejavu-core libarchive13 libcairo2\n",
      "  libdatrie1 libdeflate0 libfontconfig1 libfreetype6 libfribidi0 libgif7\n",
      "  libglib2.0-0 libglib2.0-data libgraphite2-3 libharfbuzz0b libjbig0\n",
      "  libjpeg-turbo8 libjpeg8 liblept5 libopenjp2-7 libpango-1.0-0\n",
      "  libpangocairo-1.0-0 libpangoft2-1.0-0 libpixman-1-0 libpng16-16\n",
      "  libtesseract4 libthai-data libthai0 libtiff5 libwebp7 libwebpmux3 libx11-6\n",
      "  libx11-data libxau6 libxcb-render0 libxcb-shm0 libxcb1 libxdmcp6 libxext6\n",
      "  libxrender1 shared-mime-info tesseract-ocr-eng tesseract-ocr-osd ucf\n",
      "  xdg-user-dirs\n",
      "Suggested packages:\n",
      "  lrzip\n",
      "The following NEW packages will be installed:\n",
      "  fontconfig fontconfig-config fonts-dejavu-core libarchive13 libcairo2\n",
      "  libdatrie1 libdeflate0 libfontconfig1 libfreetype6 libfribidi0 libgif7\n",
      "  libglib2.0-0 libglib2.0-data libgraphite2-3 libharfbuzz0b libjbig0\n",
      "  libjpeg-turbo8 libjpeg8 liblept5 libopenjp2-7 libpango-1.0-0\n",
      "  libpangocairo-1.0-0 libpangoft2-1.0-0 libpixman-1-0 libpng16-16\n",
      "  libtesseract4 libthai-data libthai0 libtiff5 libwebp7 libwebpmux3 libx11-6\n",
      "  libx11-data libxau6 libxcb-render0 libxcb-shm0 libxcb1 libxdmcp6 libxext6\n",
      "  libxrender1 shared-mime-info tesseract-ocr tesseract-ocr-eng\n",
      "  tesseract-ocr-osd ucf xdg-user-dirs\n",
      "0 upgraded, 46 newly installed, 0 to remove and 0 not upgraded.\n",
      "Need to get 15.2 MB of archives.\n",
      "After this operation, 46.6 MB of additional disk space will be used.\n",
      "Get:1 http://archive.ubuntu.com/ubuntu jammy-updates/main amd64 libfribidi0 amd64 1.0.8-2ubuntu3.1 [26.1 kB]\n",
      "Get:2 http://archive.ubuntu.com/ubuntu jammy-updates/main amd64 libglib2.0-0 amd64 2.72.4-0ubuntu2.5 [1466 kB]\n",
      "Get:3 http://archive.ubuntu.com/ubuntu jammy-updates/main amd64 libglib2.0-data all 2.72.4-0ubuntu2.5 [4656 B]\n",
      "Get:4 http://archive.ubuntu.com/ubuntu jammy/main amd64 shared-mime-info amd64 2.1-2 [454 kB]\n",
      "Get:5 http://archive.ubuntu.com/ubuntu jammy/main amd64 ucf all 3.0043 [56.1 kB]\n",
      "Get:6 http://archive.ubuntu.com/ubuntu jammy/main amd64 xdg-user-dirs amd64 0.17-2ubuntu4 [53.9 kB]\n",
      "Get:7 http://archive.ubuntu.com/ubuntu jammy/main amd64 libpng16-16 amd64 1.6.37-3build5 [191 kB]\n",
      "Get:8 http://archive.ubuntu.com/ubuntu jammy/main amd64 libxau6 amd64 1:1.0.9-1build5 [7634 B]\n",
      "Get:9 http://archive.ubuntu.com/ubuntu jammy/main amd64 libxdmcp6 amd64 1:1.1.3-0ubuntu5 [10.9 kB]\n",
      "Get:10 http://archive.ubuntu.com/ubuntu jammy/main amd64 libxcb1 amd64 1.14-3ubuntu3 [49.0 kB]\n",
      "Get:11 http://archive.ubuntu.com/ubuntu jammy-updates/main amd64 libx11-data all 2:1.7.5-1ubuntu0.3 [120 kB]\n",
      "Get:12 http://archive.ubuntu.com/ubuntu jammy-updates/main amd64 libx11-6 amd64 2:1.7.5-1ubuntu0.3 [667 kB]\n",
      "Get:13 http://archive.ubuntu.com/ubuntu jammy/main amd64 libxext6 amd64 2:1.3.4-1build1 [31.8 kB]\n",
      "Get:14 http://archive.ubuntu.com/ubuntu jammy-updates/main amd64 libfreetype6 amd64 2.11.1+dfsg-1ubuntu0.3 [388 kB]\n",
      "Get:15 http://archive.ubuntu.com/ubuntu jammy/main amd64 fonts-dejavu-core all 2.37-2build1 [1041 kB]\n",
      "Get:16 http://archive.ubuntu.com/ubuntu jammy/main amd64 fontconfig-config all 2.13.1-4.2ubuntu5 [29.1 kB]\n",
      "Get:17 http://archive.ubuntu.com/ubuntu jammy/main amd64 libfontconfig1 amd64 2.13.1-4.2ubuntu5 [131 kB]\n",
      "Get:18 http://archive.ubuntu.com/ubuntu jammy/main amd64 fontconfig amd64 2.13.1-4.2ubuntu5 [177 kB]\n",
      "Get:19 http://archive.ubuntu.com/ubuntu jammy-updates/main amd64 libarchive13 amd64 3.6.0-1ubuntu1.5 [368 kB]\n",
      "Get:20 http://archive.ubuntu.com/ubuntu jammy-updates/main amd64 libpixman-1-0 amd64 0.40.0-1ubuntu0.22.04.1 [264 kB]\n",
      "Get:21 http://archive.ubuntu.com/ubuntu jammy/main amd64 libxcb-render0 amd64 1.14-3ubuntu3 [16.4 kB]\n",
      "Get:22 http://archive.ubuntu.com/ubuntu jammy/main amd64 libxcb-shm0 amd64 1.14-3ubuntu3 [5780 B]\n",
      "Get:23 http://archive.ubuntu.com/ubuntu jammy/main amd64 libxrender1 amd64 1:0.9.10-1build4 [19.7 kB]\n",
      "Get:24 http://archive.ubuntu.com/ubuntu jammy/main amd64 libcairo2 amd64 1.16.0-5ubuntu2 [628 kB]\n",
      "Get:25 http://archive.ubuntu.com/ubuntu jammy/main amd64 libdatrie1 amd64 0.2.13-2 [19.9 kB]\n",
      "Get:26 http://archive.ubuntu.com/ubuntu jammy/main amd64 libdeflate0 amd64 1.10-2 [70.9 kB]\n",
      "Get:27 http://archive.ubuntu.com/ubuntu jammy-updates/main amd64 libgif7 amd64 5.1.9-2ubuntu0.1 [33.9 kB]\n",
      "Get:28 http://archive.ubuntu.com/ubuntu jammy/main amd64 libgraphite2-3 amd64 1.3.14-1build2 [71.3 kB]\n",
      "Get:29 http://archive.ubuntu.com/ubuntu jammy-updates/main amd64 libharfbuzz0b amd64 2.7.4-1ubuntu3.2 [353 kB]\n",
      "Get:30 http://archive.ubuntu.com/ubuntu jammy/main amd64 libjpeg-turbo8 amd64 2.1.2-0ubuntu1 [134 kB]\n",
      "Get:31 http://archive.ubuntu.com/ubuntu jammy/main amd64 libjpeg8 amd64 8c-2ubuntu10 [2264 B]\n",
      "Get:32 http://archive.ubuntu.com/ubuntu jammy-updates/main amd64 libopenjp2-7 amd64 2.4.0-6ubuntu0.3 [158 kB]\n",
      "Get:33 http://archive.ubuntu.com/ubuntu jammy-updates/main amd64 libjbig0 amd64 2.1-3.1ubuntu0.22.04.1 [29.2 kB]\n",
      "Get:34 http://archive.ubuntu.com/ubuntu jammy-updates/main amd64 libwebp7 amd64 1.2.2-2ubuntu0.22.04.2 [206 kB]\n",
      "Get:35 http://archive.ubuntu.com/ubuntu jammy-updates/main amd64 libtiff5 amd64 4.3.0-6ubuntu0.10 [185 kB]\n",
      "Get:36 http://archive.ubuntu.com/ubuntu jammy-updates/main amd64 libwebpmux3 amd64 1.2.2-2ubuntu0.22.04.2 [20.5 kB]\n",
      "Get:37 http://archive.ubuntu.com/ubuntu jammy/universe amd64 liblept5 amd64 1.82.0-3build1 [1107 kB]\n",
      "Get:38 http://archive.ubuntu.com/ubuntu jammy/main amd64 libthai-data all 0.1.29-1build1 [162 kB]\n",
      "Get:39 http://archive.ubuntu.com/ubuntu jammy/main amd64 libthai0 amd64 0.1.29-1build1 [19.2 kB]\n",
      "Get:40 http://archive.ubuntu.com/ubuntu jammy-updates/main amd64 libpango-1.0-0 amd64 1.50.6+ds-2ubuntu1 [230 kB]\n",
      "Get:41 http://archive.ubuntu.com/ubuntu jammy-updates/main amd64 libpangoft2-1.0-0 amd64 1.50.6+ds-2ubuntu1 [54.0 kB]\n",
      "Get:42 http://archive.ubuntu.com/ubuntu jammy-updates/main amd64 libpangocairo-1.0-0 amd64 1.50.6+ds-2ubuntu1 [39.8 kB]\n",
      "Get:43 http://archive.ubuntu.com/ubuntu jammy/universe amd64 libtesseract4 amd64 4.1.1-2.1build1 [1308 kB]\n",
      "Get:44 http://archive.ubuntu.com/ubuntu jammy/universe amd64 tesseract-ocr-eng all 1:4.00~git30-7274cfa-1.1 [1591 kB]\n",
      "Get:45 http://archive.ubuntu.com/ubuntu jammy/universe amd64 tesseract-ocr-osd all 1:4.00~git30-7274cfa-1.1 [2990 kB]\n",
      "Get:46 http://archive.ubuntu.com/ubuntu jammy/universe amd64 tesseract-ocr amd64 4.1.1-2.1build1 [236 kB]\n",
      "Fetched 15.2 MB in 0s (48.5 MB/s)      \n",
      "debconf: delaying package configuration, since apt-utils is not installed\n",
      "Selecting previously unselected package libfribidi0:amd64.\n",
      "(Reading database ... 14526 files and directories currently installed.)\n",
      "Preparing to unpack .../00-libfribidi0_1.0.8-2ubuntu3.1_amd64.deb ...\n",
      "Unpacking libfribidi0:amd64 (1.0.8-2ubuntu3.1) ...\n",
      "Selecting previously unselected package libglib2.0-0:amd64.\n",
      "Preparing to unpack .../01-libglib2.0-0_2.72.4-0ubuntu2.5_amd64.deb ...\n",
      "Unpacking libglib2.0-0:amd64 (2.72.4-0ubuntu2.5) ...\n",
      "Selecting previously unselected package libglib2.0-data.\n",
      "Preparing to unpack .../02-libglib2.0-data_2.72.4-0ubuntu2.5_all.deb ...\n",
      "Unpacking libglib2.0-data (2.72.4-0ubuntu2.5) ...\n",
      "Selecting previously unselected package shared-mime-info.\n",
      "Preparing to unpack .../03-shared-mime-info_2.1-2_amd64.deb ...\n",
      "Unpacking shared-mime-info (2.1-2) ...\n",
      "Selecting previously unselected package ucf.\n",
      "Preparing to unpack .../04-ucf_3.0043_all.deb ...\n",
      "Moving old data out of the way\n",
      "Unpacking ucf (3.0043) ...\n",
      "Selecting previously unselected package xdg-user-dirs.\n",
      "Preparing to unpack .../05-xdg-user-dirs_0.17-2ubuntu4_amd64.deb ...\n",
      "Unpacking xdg-user-dirs (0.17-2ubuntu4) ...\n",
      "Selecting previously unselected package libpng16-16:amd64.\n",
      "Preparing to unpack .../06-libpng16-16_1.6.37-3build5_amd64.deb ...\n",
      "Unpacking libpng16-16:amd64 (1.6.37-3build5) ...\n",
      "Selecting previously unselected package libxau6:amd64.\n",
      "Preparing to unpack .../07-libxau6_1%3a1.0.9-1build5_amd64.deb ...\n",
      "Unpacking libxau6:amd64 (1:1.0.9-1build5) ...\n",
      "Selecting previously unselected package libxdmcp6:amd64.\n",
      "Preparing to unpack .../08-libxdmcp6_1%3a1.1.3-0ubuntu5_amd64.deb ...\n",
      "Unpacking libxdmcp6:amd64 (1:1.1.3-0ubuntu5) ...\n",
      "Selecting previously unselected package libxcb1:amd64.\n",
      "Preparing to unpack .../09-libxcb1_1.14-3ubuntu3_amd64.deb ...\n",
      "Unpacking libxcb1:amd64 (1.14-3ubuntu3) ...\n",
      "Selecting previously unselected package libx11-data.\n",
      "Preparing to unpack .../10-libx11-data_2%3a1.7.5-1ubuntu0.3_all.deb ...\n",
      "Unpacking libx11-data (2:1.7.5-1ubuntu0.3) ...\n",
      "Selecting previously unselected package libx11-6:amd64.\n",
      "Preparing to unpack .../11-libx11-6_2%3a1.7.5-1ubuntu0.3_amd64.deb ...\n",
      "Unpacking libx11-6:amd64 (2:1.7.5-1ubuntu0.3) ...\n",
      "Selecting previously unselected package libxext6:amd64.\n",
      "Preparing to unpack .../12-libxext6_2%3a1.3.4-1build1_amd64.deb ...\n",
      "Unpacking libxext6:amd64 (2:1.3.4-1build1) ...\n",
      "Selecting previously unselected package libfreetype6:amd64.\n",
      "Preparing to unpack .../13-libfreetype6_2.11.1+dfsg-1ubuntu0.3_amd64.deb ...\n",
      "Unpacking libfreetype6:amd64 (2.11.1+dfsg-1ubuntu0.3) ...\n",
      "Selecting previously unselected package fonts-dejavu-core.\n",
      "Preparing to unpack .../14-fonts-dejavu-core_2.37-2build1_all.deb ...\n",
      "Unpacking fonts-dejavu-core (2.37-2build1) ...\n",
      "Selecting previously unselected package fontconfig-config.\n",
      "Preparing to unpack .../15-fontconfig-config_2.13.1-4.2ubuntu5_all.deb ...\n",
      "Unpacking fontconfig-config (2.13.1-4.2ubuntu5) ...\n",
      "Selecting previously unselected package libfontconfig1:amd64.\n",
      "Preparing to unpack .../16-libfontconfig1_2.13.1-4.2ubuntu5_amd64.deb ...\n",
      "Unpacking libfontconfig1:amd64 (2.13.1-4.2ubuntu5) ...\n",
      "Selecting previously unselected package fontconfig.\n",
      "Preparing to unpack .../17-fontconfig_2.13.1-4.2ubuntu5_amd64.deb ...\n",
      "Unpacking fontconfig (2.13.1-4.2ubuntu5) ...\n",
      "Selecting previously unselected package libarchive13:amd64.\n",
      "Preparing to unpack .../18-libarchive13_3.6.0-1ubuntu1.5_amd64.deb ...\n",
      "Unpacking libarchive13:amd64 (3.6.0-1ubuntu1.5) ...\n",
      "Selecting previously unselected package libpixman-1-0:amd64.\n",
      "Preparing to unpack .../19-libpixman-1-0_0.40.0-1ubuntu0.22.04.1_amd64.deb ...\n",
      "Unpacking libpixman-1-0:amd64 (0.40.0-1ubuntu0.22.04.1) ...\n",
      "Selecting previously unselected package libxcb-render0:amd64.\n",
      "Preparing to unpack .../20-libxcb-render0_1.14-3ubuntu3_amd64.deb ...\n",
      "Unpacking libxcb-render0:amd64 (1.14-3ubuntu3) ...\n",
      "Selecting previously unselected package libxcb-shm0:amd64.\n",
      "Preparing to unpack .../21-libxcb-shm0_1.14-3ubuntu3_amd64.deb ...\n",
      "Unpacking libxcb-shm0:amd64 (1.14-3ubuntu3) ...\n",
      "Selecting previously unselected package libxrender1:amd64.\n",
      "Preparing to unpack .../22-libxrender1_1%3a0.9.10-1build4_amd64.deb ...\n",
      "Unpacking libxrender1:amd64 (1:0.9.10-1build4) ...\n",
      "Selecting previously unselected package libcairo2:amd64.\n",
      "Preparing to unpack .../23-libcairo2_1.16.0-5ubuntu2_amd64.deb ...\n",
      "Unpacking libcairo2:amd64 (1.16.0-5ubuntu2) ...\n",
      "Selecting previously unselected package libdatrie1:amd64.\n",
      "Preparing to unpack .../24-libdatrie1_0.2.13-2_amd64.deb ...\n",
      "Unpacking libdatrie1:amd64 (0.2.13-2) ...\n",
      "Selecting previously unselected package libdeflate0:amd64.\n",
      "Preparing to unpack .../25-libdeflate0_1.10-2_amd64.deb ...\n",
      "Unpacking libdeflate0:amd64 (1.10-2) ...\n",
      "Selecting previously unselected package libgif7:amd64.\n",
      "Preparing to unpack .../26-libgif7_5.1.9-2ubuntu0.1_amd64.deb ...\n",
      "Unpacking libgif7:amd64 (5.1.9-2ubuntu0.1) ...\n",
      "Selecting previously unselected package libgraphite2-3:amd64.\n",
      "Preparing to unpack .../27-libgraphite2-3_1.3.14-1build2_amd64.deb ...\n",
      "Unpacking libgraphite2-3:amd64 (1.3.14-1build2) ...\n",
      "Selecting previously unselected package libharfbuzz0b:amd64.\n",
      "Preparing to unpack .../28-libharfbuzz0b_2.7.4-1ubuntu3.2_amd64.deb ...\n",
      "Unpacking libharfbuzz0b:amd64 (2.7.4-1ubuntu3.2) ...\n",
      "Selecting previously unselected package libjpeg-turbo8:amd64.\n",
      "Preparing to unpack .../29-libjpeg-turbo8_2.1.2-0ubuntu1_amd64.deb ...\n",
      "Unpacking libjpeg-turbo8:amd64 (2.1.2-0ubuntu1) ...\n",
      "Selecting previously unselected package libjpeg8:amd64.\n",
      "Preparing to unpack .../30-libjpeg8_8c-2ubuntu10_amd64.deb ...\n",
      "Unpacking libjpeg8:amd64 (8c-2ubuntu10) ...\n",
      "Selecting previously unselected package libopenjp2-7:amd64.\n",
      "Preparing to unpack .../31-libopenjp2-7_2.4.0-6ubuntu0.3_amd64.deb ...\n",
      "Unpacking libopenjp2-7:amd64 (2.4.0-6ubuntu0.3) ...\n",
      "Selecting previously unselected package libjbig0:amd64.\n",
      "Preparing to unpack .../32-libjbig0_2.1-3.1ubuntu0.22.04.1_amd64.deb ...\n",
      "Unpacking libjbig0:amd64 (2.1-3.1ubuntu0.22.04.1) ...\n",
      "Selecting previously unselected package libwebp7:amd64.\n",
      "Preparing to unpack .../33-libwebp7_1.2.2-2ubuntu0.22.04.2_amd64.deb ...\n",
      "Unpacking libwebp7:amd64 (1.2.2-2ubuntu0.22.04.2) ...\n",
      "Selecting previously unselected package libtiff5:amd64.\n",
      "Preparing to unpack .../34-libtiff5_4.3.0-6ubuntu0.10_amd64.deb ...\n",
      "Unpacking libtiff5:amd64 (4.3.0-6ubuntu0.10) ...\n",
      "Selecting previously unselected package libwebpmux3:amd64.\n",
      "Preparing to unpack .../35-libwebpmux3_1.2.2-2ubuntu0.22.04.2_amd64.deb ...\n",
      "Unpacking libwebpmux3:amd64 (1.2.2-2ubuntu0.22.04.2) ...\n",
      "Selecting previously unselected package liblept5:amd64.\n",
      "Preparing to unpack .../36-liblept5_1.82.0-3build1_amd64.deb ...\n",
      "Unpacking liblept5:amd64 (1.82.0-3build1) ...\n",
      "Selecting previously unselected package libthai-data.\n",
      "Preparing to unpack .../37-libthai-data_0.1.29-1build1_all.deb ...\n",
      "Unpacking libthai-data (0.1.29-1build1) ...\n",
      "Selecting previously unselected package libthai0:amd64.\n",
      "Preparing to unpack .../38-libthai0_0.1.29-1build1_amd64.deb ...\n",
      "Unpacking libthai0:amd64 (0.1.29-1build1) ...\n",
      "Selecting previously unselected package libpango-1.0-0:amd64.\n",
      "Preparing to unpack .../39-libpango-1.0-0_1.50.6+ds-2ubuntu1_amd64.deb ...\n",
      "Unpacking libpango-1.0-0:amd64 (1.50.6+ds-2ubuntu1) ...\n",
      "Selecting previously unselected package libpangoft2-1.0-0:amd64.\n",
      "Preparing to unpack .../40-libpangoft2-1.0-0_1.50.6+ds-2ubuntu1_amd64.deb ...\n",
      "Unpacking libpangoft2-1.0-0:amd64 (1.50.6+ds-2ubuntu1) ...\n",
      "Selecting previously unselected package libpangocairo-1.0-0:amd64.\n",
      "Preparing to unpack .../41-libpangocairo-1.0-0_1.50.6+ds-2ubuntu1_amd64.deb ...\n",
      "Unpacking libpangocairo-1.0-0:amd64 (1.50.6+ds-2ubuntu1) ...\n",
      "Selecting previously unselected package libtesseract4:amd64.\n",
      "Preparing to unpack .../42-libtesseract4_4.1.1-2.1build1_amd64.deb ...\n",
      "Unpacking libtesseract4:amd64 (4.1.1-2.1build1) ...\n",
      "Selecting previously unselected package tesseract-ocr-eng.\n",
      "Preparing to unpack .../43-tesseract-ocr-eng_1%3a4.00~git30-7274cfa-1.1_all.deb ...\n",
      "Unpacking tesseract-ocr-eng (1:4.00~git30-7274cfa-1.1) ...\n",
      "Selecting previously unselected package tesseract-ocr-osd.\n",
      "Preparing to unpack .../44-tesseract-ocr-osd_1%3a4.00~git30-7274cfa-1.1_all.deb ...\n",
      "Unpacking tesseract-ocr-osd (1:4.00~git30-7274cfa-1.1) ...\n",
      "Selecting previously unselected package tesseract-ocr.\n",
      "Preparing to unpack .../45-tesseract-ocr_4.1.1-2.1build1_amd64.deb ...\n",
      "Unpacking tesseract-ocr (4.1.1-2.1build1) ...\n",
      "Setting up libgraphite2-3:amd64 (1.3.14-1build2) ...\n",
      "Setting up libpixman-1-0:amd64 (0.40.0-1ubuntu0.22.04.1) ...\n",
      "Setting up libxau6:amd64 (1:1.0.9-1build5) ...\n",
      "Setting up libxdmcp6:amd64 (1:1.1.3-0ubuntu5) ...\n",
      "Setting up libxcb1:amd64 (1.14-3ubuntu3) ...\n",
      "Setting up libdatrie1:amd64 (0.2.13-2) ...\n",
      "Setting up xdg-user-dirs (0.17-2ubuntu4) ...\n",
      "Setting up libarchive13:amd64 (3.6.0-1ubuntu1.5) ...\n",
      "Setting up libxcb-render0:amd64 (1.14-3ubuntu3) ...\n",
      "Setting up libglib2.0-0:amd64 (2.72.4-0ubuntu2.5) ...\n",
      "No schema files found: doing nothing.\n",
      "Setting up libdeflate0:amd64 (1.10-2) ...\n",
      "Setting up tesseract-ocr-eng (1:4.00~git30-7274cfa-1.1) ...\n",
      "Setting up libxcb-shm0:amd64 (1.14-3ubuntu3) ...\n",
      "Setting up libjbig0:amd64 (2.1-3.1ubuntu0.22.04.1) ...\n",
      "Setting up libglib2.0-data (2.72.4-0ubuntu2.5) ...\n",
      "Setting up libx11-data (2:1.7.5-1ubuntu0.3) ...\n",
      "Setting up libfribidi0:amd64 (1.0.8-2ubuntu3.1) ...\n",
      "Setting up shared-mime-info (2.1-2) ...\n",
      "Setting up libpng16-16:amd64 (1.6.37-3build5) ...\n",
      "Setting up fonts-dejavu-core (2.37-2build1) ...\n",
      "Setting up ucf (3.0043) ...\n",
      "debconf: unable to initialize frontend: Dialog\n",
      "debconf: (No usable dialog-like program is installed, so the dialog based frontend cannot be used. at /usr/share/perl5/Debconf/FrontEnd/Dialog.pm line 78.)\n",
      "debconf: falling back to frontend: Readline\n",
      "Setting up libjpeg-turbo8:amd64 (2.1.2-0ubuntu1) ...\n",
      "Setting up libwebp7:amd64 (1.2.2-2ubuntu0.22.04.2) ...\n",
      "Setting up libgif7:amd64 (5.1.9-2ubuntu0.1) ...\n",
      "Setting up libopenjp2-7:amd64 (2.4.0-6ubuntu0.3) ...\n",
      "Setting up libx11-6:amd64 (2:1.7.5-1ubuntu0.3) ...\n",
      "Setting up libthai-data (0.1.29-1build1) ...\n",
      "Setting up tesseract-ocr-osd (1:4.00~git30-7274cfa-1.1) ...\n",
      "Setting up libwebpmux3:amd64 (1.2.2-2ubuntu0.22.04.2) ...\n",
      "Setting up libjpeg8:amd64 (8c-2ubuntu10) ...\n",
      "Setting up libxrender1:amd64 (1:0.9.10-1build4) ...\n",
      "Setting up fontconfig-config (2.13.1-4.2ubuntu5) ...\n",
      "Setting up libxext6:amd64 (2:1.3.4-1build1) ...\n",
      "Setting up libthai0:amd64 (0.1.29-1build1) ...\n",
      "Setting up libfreetype6:amd64 (2.11.1+dfsg-1ubuntu0.3) ...\n",
      "Setting up libharfbuzz0b:amd64 (2.7.4-1ubuntu3.2) ...\n",
      "Setting up libtiff5:amd64 (4.3.0-6ubuntu0.10) ...\n",
      "Setting up libfontconfig1:amd64 (2.13.1-4.2ubuntu5) ...\n",
      "Setting up fontconfig (2.13.1-4.2ubuntu5) ...\n",
      "Regenerating fonts cache... done.\n",
      "Setting up libpango-1.0-0:amd64 (1.50.6+ds-2ubuntu1) ...\n",
      "Setting up libcairo2:amd64 (1.16.0-5ubuntu2) ...\n",
      "Setting up liblept5:amd64 (1.82.0-3build1) ...\n",
      "Setting up libtesseract4:amd64 (4.1.1-2.1build1) ...\n",
      "Setting up libpangoft2-1.0-0:amd64 (1.50.6+ds-2ubuntu1) ...\n",
      "Setting up libpangocairo-1.0-0:amd64 (1.50.6+ds-2ubuntu1) ...\n",
      "Setting up tesseract-ocr (4.1.1-2.1build1) ...\n",
      "Processing triggers for libc-bin (2.35-0ubuntu3.10) ...\n"
     ]
    }
   ],
   "source": [
    "# sudo apt-get update\n",
    "!sudo apt-get install tesseract-ocr -y "
   ]
  },
  {
   "cell_type": "code",
   "execution_count": 3,
   "metadata": {},
   "outputs": [
    {
     "name": "stdout",
     "output_type": "stream",
     "text": [
      "\u001b[33m  DEPRECATION: Building 'detectron2' using the legacy setup.py bdist_wheel mechanism, which will be removed in a future version. pip 25.3 will enforce this behaviour change. A possible replacement is to use the standardized build interface by setting the `--use-pep517` option, (possibly combined with `--no-build-isolation`), or adding a `pyproject.toml` file to the source tree of 'detectron2'. Discussion can be found at https://github.com/pypa/pip/issues/6334\u001b[0m\u001b[33m\n",
      "\u001b[0m\u001b[33m  DEPRECATION: Building 'fvcore' using the legacy setup.py bdist_wheel mechanism, which will be removed in a future version. pip 25.3 will enforce this behaviour change. A possible replacement is to use the standardized build interface by setting the `--use-pep517` option, (possibly combined with `--no-build-isolation`), or adding a `pyproject.toml` file to the source tree of 'fvcore'. Discussion can be found at https://github.com/pypa/pip/issues/6334\u001b[0m\u001b[33m\n",
      "\u001b[0m"
     ]
    }
   ],
   "source": [
    "!pip install 'git+https://github.com/facebookresearch/detectron2.git' --q"
   ]
  },
  {
   "cell_type": "code",
   "execution_count": 4,
   "metadata": {},
   "outputs": [
    {
     "name": "stdout",
     "output_type": "stream",
     "text": [
      "\u001b[31mERROR: pip's dependency resolver does not currently take into account all the packages that are installed. This behaviour is the source of the following dependency conflicts.\n",
      "autogluon-multimodal 1.3.1 requires nvidia-ml-py3<8.0,>=7.352.0, which is not installed.\n",
      "jupyter-ai 2.31.5 requires faiss-cpu!=1.8.0.post0,<2.0.0,>=1.8.0, which is not installed.\n",
      "autogluon-multimodal 1.3.1 requires nltk<3.9,>=3.4.5, but you have nltk 3.9.1 which is incompatible.\n",
      "autogluon-multimodal 1.3.1 requires transformers[sentencepiece]<4.50,>=4.38.0, but you have transformers 4.53.1 which is incompatible.\n",
      "autogluon-timeseries 1.3.1 requires transformers[sentencepiece]<4.50,>=4.38.0, but you have transformers 4.53.1 which is incompatible.\n",
      "s3fs 2024.12.0 requires fsspec==2024.12.0.*, but you have fsspec 2025.3.0 which is incompatible.\u001b[0m\u001b[31m\n",
      "\u001b[0m"
     ]
    }
   ],
   "source": [
    "!pip install -U datasets huggingface_hub fsspec -q"
   ]
  },
  {
   "cell_type": "code",
   "execution_count": 1,
   "metadata": {},
   "outputs": [
    {
     "name": "stdout",
     "output_type": "stream",
     "text": [
      "15G\t/home/sagemaker-user/.cache\n"
     ]
    },
    {
     "name": "stdout",
     "output_type": "stream",
     "text": [
      "0\t/home/sagemaker-user/.cache\n"
     ]
    }
   ],
   "source": [
    "!du -sh /home/sagemaker-user/.cache\n",
    "!rm -rf /home/sagemaker-user/.cache/*\n",
    "!du -sh /home/sagemaker-user/.cache"
   ]
  },
  {
   "cell_type": "code",
   "execution_count": 6,
   "metadata": {},
   "outputs": [],
   "source": [
    "import helpers\n",
    "import importlib\n",
    "importlib.reload(helpers)\n",
    "import helpers"
   ]
  },
  {
   "cell_type": "code",
   "execution_count": 7,
   "metadata": {},
   "outputs": [
    {
     "name": "stderr",
     "output_type": "stream",
     "text": [
      "2025-08-10 07:58:53.879326: I tensorflow/core/platform/cpu_feature_guard.cc:210] This TensorFlow binary is optimized to use available CPU instructions in performance-critical operations.\n",
      "To enable the following instructions: SSE4.1 SSE4.2 AVX AVX2 AVX512F FMA, in other operations, rebuild TensorFlow with the appropriate compiler flags.\n"
     ]
    }
   ],
   "source": [
    "from transformers import pipeline\n",
    "import pprint\n",
    "import time\n",
    "import pandas as pd"
   ]
  },
  {
   "cell_type": "code",
   "execution_count": 8,
   "metadata": {},
   "outputs": [],
   "source": [
    "import warnings\n",
    "warnings.filterwarnings('ignore')\n",
    "\n",
    "from transformers.utils import logging\n",
    "logging.set_verbosity_error() "
   ]
  },
  {
   "cell_type": "markdown",
   "metadata": {},
   "source": [
    "### Load Datasets"
   ]
  },
  {
   "cell_type": "code",
   "execution_count": 9,
   "metadata": {},
   "outputs": [
    {
     "data": {
      "application/vnd.jupyter.widget-view+json": {
       "model_id": "b19cc1e93acc44a2bb880f29d72fde06",
       "version_major": 2,
       "version_minor": 0
      },
      "text/plain": [
       "README.md: 0.00B [00:00, ?B/s]"
      ]
     },
     "metadata": {},
     "output_type": "display_data"
    },
    {
     "data": {
      "application/vnd.jupyter.widget-view+json": {
       "model_id": "004bca03d1b34c3da8cd63211aba9277",
       "version_major": 2,
       "version_minor": 0
      },
      "text/plain": [
       "data/train-00000-of-00001-daacd1ed85a01f(…):   0%|          | 0.00/155M [00:00<?, ?B/s]"
      ]
     },
     "metadata": {},
     "output_type": "display_data"
    },
    {
     "data": {
      "application/vnd.jupyter.widget-view+json": {
       "model_id": "c4bdf59970294866a457e3988c406327",
       "version_major": 2,
       "version_minor": 0
      },
      "text/plain": [
       "Generating train split:   0%|          | 0/1000 [00:00<?, ? examples/s]"
      ]
     },
     "metadata": {},
     "output_type": "display_data"
    }
   ],
   "source": [
    "from datasets import load_dataset\n",
    "vqa = load_dataset(\"Multimodal-Fatima/VQAv2_sample_train\", split='train[:10]')"
   ]
  },
  {
   "cell_type": "code",
   "execution_count": 10,
   "metadata": {},
   "outputs": [
    {
     "data": {
      "application/vnd.jupyter.widget-view+json": {
       "model_id": "562cbde41ec54d9897b128e91ba909da",
       "version_major": 2,
       "version_minor": 0
      },
      "text/plain": [
       "README.md: 0.00B [00:00, ?B/s]"
      ]
     },
     "metadata": {},
     "output_type": "display_data"
    },
    {
     "data": {
      "application/vnd.jupyter.widget-view+json": {
       "model_id": "a466e30517b54daf85ba648761538070",
       "version_major": 2,
       "version_minor": 0
      },
      "text/plain": [
       "train-00000-of-00001.parquet:   0%|          | 0.00/289M [00:00<?, ?B/s]"
      ]
     },
     "metadata": {},
     "output_type": "display_data"
    },
    {
     "data": {
      "application/vnd.jupyter.widget-view+json": {
       "model_id": "1224b9c3c7964c53a47c82c89ffe1fca",
       "version_major": 2,
       "version_minor": 0
      },
      "text/plain": [
       "Generating train split:   0%|          | 0/9593 [00:00<?, ? examples/s]"
      ]
     },
     "metadata": {},
     "output_type": "display_data"
    }
   ],
   "source": [
    "from datasets import load_dataset\n",
    "\n",
    "ds = load_dataset(\"openbmb/VisRAG-Ret-Test-PlotQA\", \"corpus\", split=\"train[:10]\")"
   ]
  },
  {
   "cell_type": "markdown",
   "metadata": {},
   "source": [
    "#### Load Image Using URL"
   ]
  },
  {
   "cell_type": "markdown",
   "metadata": {},
   "source": [
    "### CV Tasks Comparison\n",
    "* What's the difference between D\n",
    "* iterate through all computer vision tasks default model\n",
    "    * [vision model]\n",
    "        * image classification: does not require additional parameters\n",
    "        * [x] zero-shot image classification: require parameter 'candidate_labels'\n",
    "    [multimodal]\n",
    "    * visual question answering: require parameter 'question'\n",
    "        * ViLT, \n",
    "    * document question answering: require parameter 'question'\n",
    "        * model type: Donut, LayoutLM\n",
    "        * output parameters: 'answer'\n",
    "    * image captioning / image to text\n",
    "        * GIT\n",
    "    * image segmentation\n",
    "        * \"facebook/mask2former-swin-base-coco-panoptic\"\n",
    "        * output parameters: 'label', 'mask'\n",
    "    * retrieval\n",
    "    * text generation\n",
    "    * optional: document QA (layout models)\n",
    "* compare output of each task\n",
    "    * in general, they are not good at data analysis tasks from dataset \"VisRAG-Ret-Test-PlotQA\"\n",
    "    * good at \"VQAv2_sample_train\" datax\n",
    "* compare the architecture of each corresponding model\n",
    "    * https://github.com/NielsRogge/Transformers-Tutorials/blob/0a4dd70ff9606009c1f2b0eaa4e0df678df4c967/README.md\n"
   ]
  },
  {
   "cell_type": "code",
   "execution_count": 11,
   "metadata": {},
   "outputs": [
    {
     "data": {
      "image/png": "[encoded data removed]",
      "text/plain": [
       "<PIL.PngImagePlugin.PngImageFile image mode=RGBA size=1016x700>"
      ]
     },
     "execution_count": 11,
     "metadata": {},
     "output_type": "execute_result"
    }
   ],
   "source": [
    "image = ds['image'][8]\n",
    "# image_0 = vqa[2]['image']\n",
    "image"
   ]
  },
  {
   "cell_type": "code",
   "execution_count": 33,
   "metadata": {},
   "outputs": [
    {
     "name": "stdout",
     "output_type": "stream",
     "text": [
      "\n",
      "## Task: document-question-answering\n"
     ]
    },
    {
     "name": "stdout",
     "output_type": "stream",
     "text": [
      "Model provided: naver-clova-ix/donut-base-finetuned-docvqa\n",
      "[{'answer': 'co2'}]\n",
      "\n",
      "## Task: document-question-answering\n",
      "Model provided: tiennvcs/layoutlmv2-base-uncased-finetuned-docvqa\n",
      "[{'answer': '—', 'end': 17, 'score': 0.3009874224662781, 'start': 17}]\n",
      "\n",
      "## Task: document-question-answering\n",
      "'model'\n",
      "No model provided\n",
      "[{'answer': 'CO2 emissions (% of total fuel combustion)',\n",
      "  'end': 16,\n",
      "  'score': 0.1094897910952568,\n",
      "  'start': 10}]\n",
      "\n",
      "## Task: visual-question-answering\n",
      "Model provided: Salesforce/blip-vqa-capfilt-large\n",
      "[{'answer': 'chart of countries'}]\n",
      "\n",
      "## Task: visual-question-answering\n",
      "'model'\n",
      "No model provided\n",
      "[{'answer': 'nothing', 'score': 0.016844723373651505},\n",
      " {'answer': 'words', 'score': 0.015476851724088192},\n",
      " {'answer': 'phone', 'score': 0.0132528617978096},\n",
      " {'answer': 'directions', 'score': 0.012917141430079937},\n",
      " {'answer': 'train', 'score': 0.012560748495161533}]\n",
      "\n",
      "## Task: image-classification\n",
      "'model'\n",
      "No model provided\n"
     ]
    },
    {
     "data": {
      "application/vnd.jupyter.widget-view+json": {
       "model_id": "a95ec9fa7113483cac86dd8243315581",
       "version_major": 2,
       "version_minor": 0
      },
      "text/plain": [
       "config.json: 0.00B [00:00, ?B/s]"
      ]
     },
     "metadata": {},
     "output_type": "display_data"
    },
    {
     "data": {
      "application/vnd.jupyter.widget-view+json": {
       "model_id": "ef8b545c44c747eeba00204d15fd27eb",
       "version_major": 2,
       "version_minor": 0
      },
      "text/plain": [
       "model.safetensors:   0%|          | 0.00/346M [00:00<?, ?B/s]"
      ]
     },
     "metadata": {},
     "output_type": "display_data"
    },
    {
     "data": {
      "application/vnd.jupyter.widget-view+json": {
       "model_id": "9544270ef33249e7ae9253390ee93f15",
       "version_major": 2,
       "version_minor": 0
      },
      "text/plain": [
       "preprocessor_config.json:   0%|          | 0.00/160 [00:00<?, ?B/s]"
      ]
     },
     "metadata": {},
     "output_type": "display_data"
    },
    {
     "name": "stdout",
     "output_type": "stream",
     "text": [
      "[{'label': 'web site, website, internet site, site',\n",
      "  'score': 0.7287737131118774},\n",
      " {'label': 'binder, ring-binder', 'score': 0.02215629070997238},\n",
      " {'label': 'screen, CRT screen', 'score': 0.01686996966600418},\n",
      " {'label': 'envelope', 'score': 0.013570886105298996},\n",
      " {'label': 'desktop computer', 'score': 0.011755614541471004}]\n",
      "\n",
      "## Task: image-to-text\n",
      "'model'\n",
      "No model provided\n"
     ]
    },
    {
     "data": {
      "application/vnd.jupyter.widget-view+json": {
       "model_id": "9cb481ab58c741209873075fd374eedd",
       "version_major": 2,
       "version_minor": 0
      },
      "text/plain": [
       "config.json: 0.00B [00:00, ?B/s]"
      ]
     },
     "metadata": {},
     "output_type": "display_data"
    },
    {
     "data": {
      "application/vnd.jupyter.widget-view+json": {
       "model_id": "5c6226bfd7074766985c4f87d0fda944",
       "version_major": 2,
       "version_minor": 0
      },
      "text/plain": [
       "pytorch_model.bin:   0%|          | 0.00/982M [00:00<?, ?B/s]"
      ]
     },
     "metadata": {},
     "output_type": "display_data"
    },
    {
     "data": {
      "application/vnd.jupyter.widget-view+json": {
       "model_id": "6e376e5b9d4d489fba6bc7e3c04de935",
       "version_major": 2,
       "version_minor": 0
      },
      "text/plain": [
       "model.safetensors:   0%|          | 0.00/982M [00:00<?, ?B/s]"
      ]
     },
     "metadata": {},
     "output_type": "display_data"
    },
    {
     "data": {
      "application/vnd.jupyter.widget-view+json": {
       "model_id": "bbbec489f6ba4d2baeff650707527a9f",
       "version_major": 2,
       "version_minor": 0
      },
      "text/plain": [
       "tokenizer_config.json:   0%|          | 0.00/236 [00:00<?, ?B/s]"
      ]
     },
     "metadata": {},
     "output_type": "display_data"
    },
    {
     "data": {
      "application/vnd.jupyter.widget-view+json": {
       "model_id": "f9cfe84fbaa743db979976c00683ab2b",
       "version_major": 2,
       "version_minor": 0
      },
      "text/plain": [
       "vocab.json: 0.00B [00:00, ?B/s]"
      ]
     },
     "metadata": {},
     "output_type": "display_data"
    },
    {
     "data": {
      "application/vnd.jupyter.widget-view+json": {
       "model_id": "f1d4bce71b1741e79d22d36fe51209d3",
       "version_major": 2,
       "version_minor": 0
      },
      "text/plain": [
       "merges.txt: 0.00B [00:00, ?B/s]"
      ]
     },
     "metadata": {},
     "output_type": "display_data"
    },
    {
     "data": {
      "application/vnd.jupyter.widget-view+json": {
       "model_id": "ec7ebfe8d6604a11aac996c12049982e",
       "version_major": 2,
       "version_minor": 0
      },
      "text/plain": [
       "tokenizer.json: 0.00B [00:00, ?B/s]"
      ]
     },
     "metadata": {},
     "output_type": "display_data"
    },
    {
     "data": {
      "application/vnd.jupyter.widget-view+json": {
       "model_id": "31e12da6b710446caa47d83b386dee45",
       "version_major": 2,
       "version_minor": 0
      },
      "text/plain": [
       "special_tokens_map.json:   0%|          | 0.00/120 [00:00<?, ?B/s]"
      ]
     },
     "metadata": {},
     "output_type": "display_data"
    },
    {
     "data": {
      "application/vnd.jupyter.widget-view+json": {
       "model_id": "2ccc3671136844d79503052b2322f7b8",
       "version_major": 2,
       "version_minor": 0
      },
      "text/plain": [
       "preprocessor_config.json:   0%|          | 0.00/211 [00:00<?, ?B/s]"
      ]
     },
     "metadata": {},
     "output_type": "display_data"
    },
    {
     "name": "stdout",
     "output_type": "stream",
     "text": [
      "[{'generated_text': 'a picture of a blue and white photo of a computer '}]\n",
      "\n",
      "## Task: image-segmentation\n"
     ]
    },
    {
     "data": {
      "application/vnd.jupyter.widget-view+json": {
       "model_id": "e557fb148f5f4d9d95fddc063670fcf7",
       "version_major": 2,
       "version_minor": 0
      },
      "text/plain": [
       "config.json: 0.00B [00:00, ?B/s]"
      ]
     },
     "metadata": {},
     "output_type": "display_data"
    }
   ],
   "source": [
    "generation_params = {\n",
    "    \"max_new_tokens\": 256,\n",
    "    \"min_new_tokens\": 120,\n",
    "}\n",
    "\n",
    "user_query = 'what does the image show?'\n",
    "\n",
    "task_list = [\n",
    "    { \n",
    "        'task': 'document-question-answering',\n",
    "        'model': \"naver-clova-ix/donut-base-finetuned-docvqa\",\n",
    "        'model type': 'Donut',\n",
    "        'params': {\n",
    "            'question': user_query,\n",
    "        }\n",
    "    },\n",
    "    {\n",
    "        'task': 'document-question-answering',\n",
    "        'model': \"tiennvcs/layoutlmv2-base-uncased-finetuned-docvqa\",\n",
    "        'model type': 'LayoutLM',\n",
    "        'params': {\n",
    "            'question': user_query,\n",
    "        }   \n",
    "    },\n",
    "    { \n",
    "        'task': 'document-question-answering',\n",
    "        # 'model': \"impira/layoutlm-document-qa\", # default model\n",
    "        'model type': 'LayoutLM',\n",
    "        'params': {\n",
    "            'question': user_query,\n",
    "        }\n",
    "    },\n",
    "    {\n",
    "        'task': 'visual-question-answering',\n",
    "        'model':  'Salesforce/blip-vqa-capfilt-large',\n",
    "        'model type': 'BLIP',\n",
    "        'params': {\n",
    "            'question': user_query,\n",
    "        }\n",
    "    },\n",
    "    {\n",
    "        'task': 'visual-question-answering',\n",
    "        # 'model':  '',\n",
    "        'model type': '',\n",
    "        'params': {\n",
    "            'question': user_query,\n",
    "        }\n",
    "    },\n",
    "    {\n",
    "        'task': 'image-classification',\n",
    "        # 'model':  'Salesforce/blip-vqa-capfilt-large',\n",
    "        'model type': '',\n",
    "        'params': {}\n",
    "    },\n",
    "    {\n",
    "        'task': 'image-to-text',\n",
    "        'model type': '',\n",
    "        'params': {}\n",
    "    },\n",
    "    {\n",
    "        'task': 'image-segmentation',\n",
    "        'model': \"facebook/mask2former-swin-base-coco-panoptic\",\n",
    "        'model type': 'SWIN',\n",
    "        'params': {}\n",
    "    },\n",
    "]\n",
    "\n",
    "\n",
    "results = []\n",
    "\n",
    "for i in task_list:\n",
    "    task = i['task']\n",
    "    params = i['params']\n",
    "    model_type = i['model type']\n",
    "    row = {\n",
    "        'task': task,\n",
    "        'params': params,\n",
    "        'model type': model_type\n",
    "        }\n",
    "    print(f'\\n## Task: {task}')\n",
    "\n",
    "    try:\n",
    "        model = i['model']\n",
    "        row['model'] = model\n",
    "        pipe = pipeline(task, model=model)\n",
    "        print(f'Model provided: {model}')\n",
    "        \n",
    "    except Exception as e:\n",
    "        print(e)\n",
    "        print('No model provided')\n",
    "        pipe = pipeline(task, )\n",
    "        row['model'] = pipe.model.name_or_path\n",
    "\n",
    "    start_time = time.time()\n",
    "    output = pipe(\n",
    "        image, \n",
    "        # max_new_tokens=10000, min_new_tokens=200, do_sample=True, \n",
    "        **params\n",
    "    )\n",
    "\n",
    "    execution_time = time.time() - start_time\n",
    "\n",
    "    row['time'] = execution_time\n",
    "    row['output'] = output\n",
    "    \n",
    "    # pprint.pprint(pipe.model)\n",
    "    pprint.pprint(output)\n",
    "    \n",
    "    results.append(row)\n",
    "    results_df = pd.DataFrame(results)\n",
    "    "
   ]
  },
  {
   "cell_type": "code",
   "execution_count": null,
   "metadata": {},
   "outputs": [
    {
     "data": {
      "text/html": [
       "<style type=\"text/css\">\n",
       "#T_ea9c8 th {\n",
       "  text-align: left;\n",
       "  font-family: monospace;\n",
       "  padding: 8px;\n",
       "}\n",
       "#T_ea9c8 td {\n",
       "  padding: 8px;\n",
       "}\n",
       "#T_ea9c8_row0_col0, #T_ea9c8_row0_col1, #T_ea9c8_row0_col2, #T_ea9c8_row0_col3, #T_ea9c8_row0_col4, #T_ea9c8_row0_col5, #T_ea9c8_row1_col0, #T_ea9c8_row1_col1, #T_ea9c8_row1_col2, #T_ea9c8_row1_col3, #T_ea9c8_row1_col4, #T_ea9c8_row1_col5, #T_ea9c8_row2_col0, #T_ea9c8_row2_col1, #T_ea9c8_row2_col2, #T_ea9c8_row2_col3, #T_ea9c8_row2_col4, #T_ea9c8_row2_col5, #T_ea9c8_row3_col0, #T_ea9c8_row3_col1, #T_ea9c8_row3_col2, #T_ea9c8_row3_col3, #T_ea9c8_row3_col4, #T_ea9c8_row3_col5, #T_ea9c8_row4_col0, #T_ea9c8_row4_col1, #T_ea9c8_row4_col2, #T_ea9c8_row4_col3, #T_ea9c8_row4_col4, #T_ea9c8_row4_col5 {\n",
       "  text-align: left;\n",
       "  white-space: pre-wrap;\n",
       "}\n",
       "</style>\n",
       "<table id=\"T_ea9c8\">\n",
       "  <thead>\n",
       "    <tr>\n",
       "      <th class=\"blank level0\" >&nbsp;</th>\n",
       "      <th id=\"T_ea9c8_level0_col0\" class=\"col_heading level0 col0\" >task</th>\n",
       "      <th id=\"T_ea9c8_level0_col1\" class=\"col_heading level0 col1\" >params</th>\n",
       "      <th id=\"T_ea9c8_level0_col2\" class=\"col_heading level0 col2\" >model type</th>\n",
       "      <th id=\"T_ea9c8_level0_col3\" class=\"col_heading level0 col3\" >model</th>\n",
       "      <th id=\"T_ea9c8_level0_col4\" class=\"col_heading level0 col4\" >time</th>\n",
       "      <th id=\"T_ea9c8_level0_col5\" class=\"col_heading level0 col5\" >output</th>\n",
       "    </tr>\n",
       "  </thead>\n",
       "  <tbody>\n",
       "    <tr>\n",
       "      <th id=\"T_ea9c8_level0_row0\" class=\"row_heading level0 row0\" >0</th>\n",
       "      <td id=\"T_ea9c8_row0_col0\" class=\"data row0 col0\" >document-question-answering</td>\n",
       "      <td id=\"T_ea9c8_row0_col1\" class=\"data row0 col1\" >{'question': 'what does the image show?'}</td>\n",
       "      <td id=\"T_ea9c8_row0_col2\" class=\"data row0 col2\" >Donut</td>\n",
       "      <td id=\"T_ea9c8_row0_col3\" class=\"data row0 col3\" >naver-clova-ix/donut-base-finetuned-docvqa</td>\n",
       "      <td id=\"T_ea9c8_row0_col4\" class=\"data row0 col4\" >16.433214</td>\n",
       "      <td id=\"T_ea9c8_row0_col5\" class=\"data row0 col5\" >[{'answer': 'co2'}]</td>\n",
       "    </tr>\n",
       "    <tr>\n",
       "      <th id=\"T_ea9c8_level0_row1\" class=\"row_heading level0 row1\" >1</th>\n",
       "      <td id=\"T_ea9c8_row1_col0\" class=\"data row1 col0\" >document-question-answering</td>\n",
       "      <td id=\"T_ea9c8_row1_col1\" class=\"data row1 col1\" >{'question': 'what does the image show?'}</td>\n",
       "      <td id=\"T_ea9c8_row1_col2\" class=\"data row1 col2\" >LayoutLM</td>\n",
       "      <td id=\"T_ea9c8_row1_col3\" class=\"data row1 col3\" >tiennvcs/layoutlmv2-base-uncased-finetuned-docvqa</td>\n",
       "      <td id=\"T_ea9c8_row1_col4\" class=\"data row1 col4\" >0.631402</td>\n",
       "      <td id=\"T_ea9c8_row1_col5\" class=\"data row1 col5\" >[{'score': 0.3009874224662781, 'answer': '—', 'start': 17, 'end': 17}]</td>\n",
       "    </tr>\n",
       "    <tr>\n",
       "      <th id=\"T_ea9c8_level0_row2\" class=\"row_heading level0 row2\" >2</th>\n",
       "      <td id=\"T_ea9c8_row2_col0\" class=\"data row2 col0\" >document-question-answering</td>\n",
       "      <td id=\"T_ea9c8_row2_col1\" class=\"data row2 col1\" >{'question': 'what does the image show?'}</td>\n",
       "      <td id=\"T_ea9c8_row2_col2\" class=\"data row2 col2\" >LayoutLM</td>\n",
       "      <td id=\"T_ea9c8_row2_col3\" class=\"data row2 col3\" >impira/layoutlm-document-qa</td>\n",
       "      <td id=\"T_ea9c8_row2_col4\" class=\"data row2 col4\" >0.433732</td>\n",
       "      <td id=\"T_ea9c8_row2_col5\" class=\"data row2 col5\" >[{'score': 0.1094897910952568, 'answer': 'CO2 emissions (% of total fuel combustion)', 'start': 10, 'end': 16}]</td>\n",
       "    </tr>\n",
       "    <tr>\n",
       "      <th id=\"T_ea9c8_level0_row3\" class=\"row_heading level0 row3\" >3</th>\n",
       "      <td id=\"T_ea9c8_row3_col0\" class=\"data row3 col0\" >visual-question-answering</td>\n",
       "      <td id=\"T_ea9c8_row3_col1\" class=\"data row3 col1\" >{'question': 'what does the image show?'}</td>\n",
       "      <td id=\"T_ea9c8_row3_col2\" class=\"data row3 col2\" >BLIP</td>\n",
       "      <td id=\"T_ea9c8_row3_col3\" class=\"data row3 col3\" >Salesforce/blip-vqa-capfilt-large</td>\n",
       "      <td id=\"T_ea9c8_row3_col4\" class=\"data row3 col4\" >0.928211</td>\n",
       "      <td id=\"T_ea9c8_row3_col5\" class=\"data row3 col5\" >[{'answer': 'chart of countries'}]</td>\n",
       "    </tr>\n",
       "    <tr>\n",
       "      <th id=\"T_ea9c8_level0_row4\" class=\"row_heading level0 row4\" >4</th>\n",
       "      <td id=\"T_ea9c8_row4_col0\" class=\"data row4 col0\" >visual-question-answering</td>\n",
       "      <td id=\"T_ea9c8_row4_col1\" class=\"data row4 col1\" >{'question': 'what does the image show?'}</td>\n",
       "      <td id=\"T_ea9c8_row4_col2\" class=\"data row4 col2\" >BLIP</td>\n",
       "      <td id=\"T_ea9c8_row4_col3\" class=\"data row4 col3\" >dandelin/vilt-b32-finetuned-vqa</td>\n",
       "      <td id=\"T_ea9c8_row4_col4\" class=\"data row4 col4\" >0.273232</td>\n",
       "      <td id=\"T_ea9c8_row4_col5\" class=\"data row4 col5\" >[{'score': 0.016844715923070908, 'answer': 'nothing'}, {'score': 0.015476836822926998, 'answer': 'words'}, {'score': 0.013252826407551765, 'answer': 'phone'}, {'score': 0.012917086482048035, 'answer': 'directions'}, {'score': 0.012560713104903698, 'answer': 'train'}]</td>\n",
       "    </tr>\n",
       "  </tbody>\n",
       "</table>\n"
      ],
      "text/plain": [
       "<IPython.core.display.HTML object>"
      ]
     },
     "metadata": {},
     "output_type": "display_data"
    }
   ],
   "source": [
    "\n",
    "helpers.display_comparison_results(results_df)\n"
   ]
  },
  {
   "cell_type": "code",
   "execution_count": null,
   "metadata": {},
   "outputs": [],
   "source": [
    "def display_segmentation(output):\n",
    "    output_labels = [i['label'] for i in output]\n",
    "    output_masks = [i['mask'] for i in output]\n",
    "    print(output_labels)\n",
    "    for m in output_masks:\n",
    "        display(m)\n",
    "        \n",
    "    return output_labels"
   ]
  },
  {
   "cell_type": "markdown",
   "metadata": {},
   "source": [
    "### Model Comparison\n"
   ]
  },
  {
   "cell_type": "code",
   "execution_count": 14,
   "metadata": {},
   "outputs": [],
   "source": [
    "from typing import List, Dict\n",
    "import pandas as pd\n",
    "from IPython.display import display, HTML\n",
    "import time\n",
    "from transformers import Pix2StructProcessor, Pix2StructForConditionalGeneration\n",
    "import requests\n",
    "import PIL\n",
    "from PIL import Image\n",
    "\n",
    "def compare_model_outputs(\n",
    "    models: Dict,\n",
    "    test_questions: List[str],\n",
    "    image: PIL.PngImagePlugin.PngImageFile,\n",
    "    processors=None,\n",
    "    pipeline_mode=False,\n",
    ") -> pd.DataFrame:\n",
    "    \"\"\"\n",
    "    Compare outputs from different models for multiple test questions\n",
    "    \n",
    "    Args:\n",
    "        models (Dict): Dictionary of model names and their corresponding model objects\n",
    "        test_questions (List[str]): List of test questions to evaluate\n",
    "        image_path (str): Path to the image file\n",
    "        processor: The processor to use for encoding/decoding\n",
    "        \n",
    "    Returns:\n",
    "        pd.DataFrame: DataFrame containing results comparison\n",
    "    \"\"\"\n",
    "    \n",
    "    results = []\n",
    "    \n",
    "    # Load image once\n",
    "    if not isinstance(image, PIL.PngImagePlugin.PngImageFile):\n",
    "        image = Image.open(image)\n",
    "\n",
    "    display(image)\n",
    "    \n",
    "    for question in test_questions:\n",
    "        row = {'Question': question}\n",
    "\n",
    "        # Get predictions from each model\n",
    "        for idx, (model_name, model) in enumerate(models.items()):\n",
    "\n",
    "            if pipeline_mode:\n",
    "                print('Pipeline Model')\n",
    "                start_time = time.time()\n",
    "            \n",
    "                try:\n",
    "                    prediction = model(image=image, question=question)\n",
    "                    print(f\"\"\"Output: \\n {prediction}\"\"\")\n",
    "                    execution_time = time.time() - start_time\n",
    "                    \n",
    "                    row[f'{model_name}_output'] = prediction\n",
    "                    row[f'{model_name}_time'] = f\"{execution_time:.2f}s\"\n",
    "                    \n",
    "                except Exception as e:\n",
    "                    row[f'{model_name}_output'] = f\"Error: {str(e)}\"\n",
    "                    row[f'{model_name}_time'] = \"N/A\"\n",
    "            \n",
    "            else:\n",
    "                # Initiate processor and model\n",
    "                if not processors:\n",
    "                    processor = Pix2StructProcessor.from_pretrained(model_name)\n",
    "                processor = processors[idx]\n",
    "\n",
    "                inputs = processor(image, question, return_tensors=\"pt\")\n",
    "                start_time = time.time()\n",
    "                \n",
    "                try:\n",
    "                    outputs = model.generate(**inputs) \n",
    "                    prediction = processor.decode(outputs[0], skip_special_tokens=True)\n",
    "                    execution_time = time.time() - start_time\n",
    "                    \n",
    "                    row[f'{model_name}_output'] = prediction\n",
    "                    row[f'{model_name}_time'] = f\"{execution_time:.2f}s\"\n",
    "                    \n",
    "                except Exception as e:\n",
    "                    row[f'{model_name}_output'] = f\"Error: {str(e)}\"\n",
    "                    row[f'{model_name}_time'] = \"N/A\"\n",
    "        \n",
    "        results.append(row)\n",
    "    \n",
    "    # Create DataFrame\n",
    "    df = pd.DataFrame(results)\n",
    "    \n",
    "    return df\n",
    "\n"
   ]
  },
  {
   "cell_type": "code",
   "execution_count": 20,
   "metadata": {},
   "outputs": [
    {
     "data": {
      "application/vnd.jupyter.widget-view+json": {
       "model_id": "5ebc7553b14742daa54438807da2f983",
       "version_major": 2,
       "version_minor": 0
      },
      "text/plain": [
       "preprocessor_config.json:   0%|          | 0.00/359 [00:00<?, ?B/s]"
      ]
     },
     "metadata": {},
     "output_type": "display_data"
    },
    {
     "data": {
      "application/vnd.jupyter.widget-view+json": {
       "model_id": "39298f23470c4c4fa558fcc2646f42b8",
       "version_major": 2,
       "version_minor": 0
      },
      "text/plain": [
       "tokenizer_config.json:   0%|          | 0.00/535 [00:00<?, ?B/s]"
      ]
     },
     "metadata": {},
     "output_type": "display_data"
    },
    {
     "data": {
      "application/vnd.jupyter.widget-view+json": {
       "model_id": "5e8fec1b8d5f408a8b2e5c90c4adee02",
       "version_major": 2,
       "version_minor": 0
      },
      "text/plain": [
       "sentencepiece.bpe.model:   0%|          | 0.00/1.30M [00:00<?, ?B/s]"
      ]
     },
     "metadata": {},
     "output_type": "display_data"
    },
    {
     "data": {
      "application/vnd.jupyter.widget-view+json": {
       "model_id": "8f8b8eeff374451383db0d5d60c39d46",
       "version_major": 2,
       "version_minor": 0
      },
      "text/plain": [
       "tokenizer.json: 0.00B [00:00, ?B/s]"
      ]
     },
     "metadata": {},
     "output_type": "display_data"
    },
    {
     "data": {
      "application/vnd.jupyter.widget-view+json": {
       "model_id": "71501e9b2d1841efb1f281cada7c284e",
       "version_major": 2,
       "version_minor": 0
      },
      "text/plain": [
       "added_tokens.json:   0%|          | 0.00/229 [00:00<?, ?B/s]"
      ]
     },
     "metadata": {},
     "output_type": "display_data"
    },
    {
     "data": {
      "application/vnd.jupyter.widget-view+json": {
       "model_id": "3b3e9112692d4c0a8de6dbbe2e298a0a",
       "version_major": 2,
       "version_minor": 0
      },
      "text/plain": [
       "special_tokens_map.json:   0%|          | 0.00/478 [00:00<?, ?B/s]"
      ]
     },
     "metadata": {},
     "output_type": "display_data"
    },
    {
     "data": {
      "application/vnd.jupyter.widget-view+json": {
       "model_id": "214751abe58042269d29faa0f7b19c5d",
       "version_major": 2,
       "version_minor": 0
      },
      "text/plain": [
       "config.json: 0.00B [00:00, ?B/s]"
      ]
     },
     "metadata": {},
     "output_type": "display_data"
    },
    {
     "data": {
      "application/vnd.jupyter.widget-view+json": {
       "model_id": "970fb938f8af40b883217f0f0dea588f",
       "version_major": 2,
       "version_minor": 0
      },
      "text/plain": [
       "pytorch_model.bin:   0%|          | 0.00/803M [00:00<?, ?B/s]"
      ]
     },
     "metadata": {},
     "output_type": "display_data"
    },
    {
     "data": {
      "application/vnd.jupyter.widget-view+json": {
       "model_id": "91902096ac25478e8530223de9cff2b1",
       "version_major": 2,
       "version_minor": 0
      },
      "text/plain": [
       "model.safetensors:   0%|          | 0.00/803M [00:00<?, ?B/s]"
      ]
     },
     "metadata": {},
     "output_type": "display_data"
    },
    {
     "data": {
      "application/vnd.jupyter.widget-view+json": {
       "model_id": "99eb0d4f1b7a46dab04985bd7f91180c",
       "version_major": 2,
       "version_minor": 0
      },
      "text/plain": [
       "preprocessor_config.json:   0%|          | 0.00/325 [00:00<?, ?B/s]"
      ]
     },
     "metadata": {},
     "output_type": "display_data"
    },
    {
     "data": {
      "application/vnd.jupyter.widget-view+json": {
       "model_id": "2e6f8657266042c5bbbf9fbbf9565bc8",
       "version_major": 2,
       "version_minor": 0
      },
      "text/plain": [
       "config.json:   0%|          | 0.00/724 [00:00<?, ?B/s]"
      ]
     },
     "metadata": {},
     "output_type": "display_data"
    },
    {
     "data": {
      "application/vnd.jupyter.widget-view+json": {
       "model_id": "747dd0d42c0a40ba90863add378e3fa4",
       "version_major": 2,
       "version_minor": 0
      },
      "text/plain": [
       "model.safetensors:   0%|          | 0.00/343M [00:00<?, ?B/s]"
      ]
     },
     "metadata": {},
     "output_type": "display_data"
    }
   ],
   "source": [
    "from transformers import Pix2StructProcessor, Pix2StructForConditionalGeneration\n",
    "from transformers import DonutProcessor, VisionEncoderDecoderModel\n",
    "\n",
    "processor_deplot = Pix2StructProcessor.from_pretrained('google/deplot')\n",
    "model_deplot = Pix2StructForConditionalGeneration.from_pretrained('google/deplot')\n",
    "\n",
    "\n",
    "processor_donut = DonutProcessor.from_pretrained(\"naver-clova-ix/donut-base-finetuned-docvqa\")\n",
    "model_donut = VisionEncoderDecoderModel.from_pretrained(\"naver-clova-ix/donut-base-finetuned-docvqa\")\n",
    "\n",
    "# Load image classification model directly\n",
    "from transformers import AutoImageProcessor, AutoModelForImageClassification\n",
    "\n",
    "processor_nsfw = AutoImageProcessor.from_pretrained(\"Falconsai/nsfw_image_detection\")\n",
    "model_nsfw = AutoModelForImageClassification.from_pretrained(\"Falconsai/nsfw_image_detection\")\n",
    "\n",
    "# processor_donut = DonutProcessor.from_pretrained(\"naver-clova-ix/donut-base-finetuned-rvlcdip\")\n",
    "# model_donut = VisionEncoderDecoderModel.from_pretrained(\"naver-clova-ix/donut-base-finetuned-rvlcdip\")"
   ]
  },
  {
   "cell_type": "code",
   "execution_count": 24,
   "metadata": {},
   "outputs": [],
   "source": [
    "# Example test setup\n",
    "models = {\n",
    "    # 'naver-clova-ix/donut-base-finetuned-rvlcdip': pipe_donut,\n",
    "    # 'google/deplot': pipe_deplot,\n",
    "    # 'Salesforce/blip-vqa-capfilt-large': pipe_blip,\n",
    "    # 'dandelin/vilt-b32-finetuned-vqa': pipe_vlit,\n",
    "    'google/deplot': model_deplot,\n",
    "    'donut': model_donut,\n",
    "    # 'nsfw': model_nsfw\n",
    "    \n",
    "}\n",
    "\n",
    "processors = [\n",
    "    processor_deplot,\n",
    "    processor_donut,\n",
    "    # processor_nsfw\n",
    "#     processor_blip,\n",
    "#     processor_vlit\n",
    "]\n",
    "\n",
    "test_questions = [\n",
    "    \"Generate key insights based on the figure below:\",\n",
    "]\n",
    "\n",
    "\n",
    "image_0 = ds['image'][0]"
   ]
  },
  {
   "cell_type": "code",
   "execution_count": 25,
   "metadata": {},
   "outputs": [
    {
     "data": {
      "image/png": "[encoded data removed]",
      "text/plain": [
       "<PIL.PngImagePlugin.PngImageFile image mode=RGBA size=1263x700>"
      ]
     },
     "metadata": {},
     "output_type": "display_data"
    },
    {
     "name": "stdout",
     "output_type": "stream",
     "text": [
      "Output: \n",
      " tensor([[    0, 36757,   789, 19657,  2094,   281,   329,  2076,   908,   281,\n",
      "           276, 36996,   280, 14124,    27, 37446,   789,   273,   277,   292,\n",
      "           295]])\n",
      "Output: \n",
      " tensor([[54450, 25209, 26756, 25515, 46192, 26361, 46192, 37910, 56738, 48941,\n",
      "         34360, 37746,  2586,  2674, 40795, 18619, 40831, 57523,     2]])\n"
     ]
    },
    {
     "data": {
      "text/html": [
       "<style type=\"text/css\">\n",
       "#T_74653 th {\n",
       "  text-align: left;\n",
       "  font-family: monospace;\n",
       "  padding: 8px;\n",
       "}\n",
       "#T_74653 td {\n",
       "  padding: 8px;\n",
       "}\n",
       "#T_74653_row0_col0, #T_74653_row0_col1, #T_74653_row0_col2, #T_74653_row0_col3, #T_74653_row0_col4 {\n",
       "  text-align: left;\n",
       "  white-space: pre-wrap;\n",
       "}\n",
       "</style>\n",
       "<table id=\"T_74653\">\n",
       "  <thead>\n",
       "    <tr>\n",
       "      <th class=\"blank level0\" >&nbsp;</th>\n",
       "      <th id=\"T_74653_level0_col0\" class=\"col_heading level0 col0\" >Question</th>\n",
       "      <th id=\"T_74653_level0_col1\" class=\"col_heading level0 col1\" >google/deplot_output</th>\n",
       "      <th id=\"T_74653_level0_col2\" class=\"col_heading level0 col2\" >google/deplot_time</th>\n",
       "      <th id=\"T_74653_level0_col3\" class=\"col_heading level0 col3\" >donut_output</th>\n",
       "      <th id=\"T_74653_level0_col4\" class=\"col_heading level0 col4\" >donut_time</th>\n",
       "    </tr>\n",
       "  </thead>\n",
       "  <tbody>\n",
       "    <tr>\n",
       "      <th id=\"T_74653_level0_row0\" class=\"row_heading level0 row0\" >0</th>\n",
       "      <td id=\"T_74653_row0_col0\" class=\"data row0 col0\" >Generate key insights based on the figure below:</td>\n",
       "      <td id=\"T_74653_row0_col1\" class=\"data row0 col1\" >TITLE | Damage caused to an economy due to the depletion of minerals<0x0A>Country | 197</td>\n",
       "      <td id=\"T_74653_row0_col2\" class=\"data row0 col2\" >9.34s</td>\n",
       "      <td id=\"T_74653_row0_col3\" class=\"data row0 col3\" >Generate key insights based on the figure below: cost current us$</td>\n",
       "      <td id=\"T_74653_row0_col4\" class=\"data row0 col4\" >16.37s</td>\n",
       "    </tr>\n",
       "  </tbody>\n",
       "</table>\n"
      ],
      "text/plain": [
       "<IPython.core.display.HTML object>"
      ]
     },
     "metadata": {},
     "output_type": "display_data"
    }
   ],
   "source": [
    "# Run comparison\n",
    "results_df = compare_model_outputs(\n",
    "    models=models,\n",
    "    test_questions=test_questions,\n",
    "    image=image_0,\n",
    "    processors=processors,\n",
    "    # pipeline_mode=True\n",
    ")\n",
    "\n",
    "# Display results\n",
    "display_comparison_results(results_df)"
   ]
  },
  {
   "cell_type": "code",
   "execution_count": 30,
   "metadata": {},
   "outputs": [
    {
     "data": {
      "text/plain": [
       "0    Generate key insights based on the figure below: cost current us$\n",
       "Name: donut_output, dtype: object"
      ]
     },
     "execution_count": 30,
     "metadata": {},
     "output_type": "execute_result"
    }
   ],
   "source": [
    "pd.set_option(\"display.max_colwidth\", 100)\n",
    "results_df['donut_output']"
   ]
  },
  {
   "cell_type": "code",
   "execution_count": 24,
   "metadata": {},
   "outputs": [
    {
     "data": {
      "text/html": [
       "TITLE | Damage caused to an economy due to the depletion of minerals<0x0A>Country | 1970 | 1971<0x0A>Namibia | 19030073.99 | 13830367.65<0x0A>New Zealand | 143355.51 | 354853.02<0x0A>Peru | 129729653.40 | 83765528.48<0x0A>Philippines | 84738409.44 | 73975778.44<0x0A>Poland | 440517954.42 | 41251157.55"
      ],
      "text/plain": [
       "<IPython.core.display.HTML object>"
      ]
     },
     "execution_count": 24,
     "metadata": {},
     "output_type": "execute_result"
    }
   ],
   "source": [
    "from IPython.display import HTML, Markdown\n",
    "output = processor.decode(predictions[0], skip_special_tokens=True)\n",
    "HTML(output)"
   ]
  },
  {
   "cell_type": "code",
   "execution_count": null,
   "metadata": {},
   "outputs": [],
   "source": [
    "\n",
    "inputs = processor(images=image, text=\"Generate underlying data table of the figure below:\", return_tensors=\"pt\")\n",
    "predictions = model.generate(**inputs, max_new_tokens=512)\n",
    "print(processor.decode(predictions[0], skip_special_tokens=True))\n"
   ]
  },
  {
   "cell_type": "code",
   "execution_count": 7,
   "metadata": {},
   "outputs": [],
   "source": [
    "import requests\n",
    "import json\n",
    "\n",
    "def load_api_data(dataset, start_idx, length, split='train'):\n",
    "    # API endpoint URL\n",
    "    url = \"https://datasets-server.huggingface.co/rows\"\n",
    "    \n",
    "    # Parameters for the request\n",
    "    params = {\n",
    "        \"dataset\": dataset,\n",
    "        \"config\": \"default\",\n",
    "        \"split\": \"train\",\n",
    "        \"offset\": 0,\n",
    "        \"length\": 100\n",
    "    }\n",
    "\n",
    "    try:\n",
    "        # Send GET request\n",
    "        response = requests.get(url, params=params)\n",
    "        \n",
    "        # Check if request was successful\n",
    "        response.raise_for_status()\n",
    "        \n",
    "        # Parse JSON response\n",
    "        data = response.json()\n",
    "        \n",
    "        # Now you can work with the data\n",
    "        # For example, print the first row\n",
    "        if data and 'rows' in data:\n",
    "            print(f\"Total rows retrieved: {len(data['rows'])}\")\n",
    "            print(\"\\nFirst row data:\")\n",
    "            print(json.dumps(data['rows'][0], indent=2))\n",
    "        \n",
    "    except requests.exceptions.RequestException as e:\n",
    "        print(f\"An error occurred: {e}\")\n",
    "    except json.JSONDecodeError as e:\n",
    "        print(f\"Error parsing JSON response: {e}\")\n",
    "\n",
    "    return data\n"
   ]
  },
  {
   "cell_type": "code",
   "execution_count": 8,
   "metadata": {},
   "outputs": [
    {
     "name": "stdout",
     "output_type": "stream",
     "text": [
      "Total rows retrieved: 100\n",
      "\n",
      "First row data:\n",
      "{\n",
      "  \"row_idx\": 0,\n",
      "  \"row\": {\n",
      "    \"question_type\": \"what are the\",\n",
      "    \"multiple_choice_answer\": \"playing wii\",\n",
      "    \"answers\": [\n",
      "      \"playing wii\",\n",
      "      \"playing wii\",\n",
      "      \"playing video games\",\n",
      "      \"playing video games\",\n",
      "      \"playing wii\",\n",
      "      \"playing wii\",\n",
      "      \"playing wii\",\n",
      "      \"playing wii bowling\",\n",
      "      \"playing wii\",\n",
      "      \"playing wii\"\n",
      "    ],\n",
      "    \"answers_original\": [\n",
      "      {\n",
      "        \"answer\": \"playing wii\",\n",
      "        \"answer_confidence\": \"yes\",\n",
      "        \"answer_id\": 1\n",
      "      },\n",
      "      {\n",
      "        \"answer\": \"playing wii\",\n",
      "        \"answer_confidence\": \"yes\",\n",
      "        \"answer_id\": 2\n",
      "      },\n",
      "      {\n",
      "        \"answer\": \"playing video games\",\n",
      "        \"answer_confidence\": \"yes\",\n",
      "        \"answer_id\": 3\n",
      "      },\n",
      "      {\n",
      "        \"answer\": \"playing video games\",\n",
      "        \"answer_confidence\": \"yes\",\n",
      "        \"answer_id\": 4\n",
      "      },\n",
      "      {\n",
      "        \"answer\": \"playing wii\",\n",
      "        \"answer_confidence\": \"yes\",\n",
      "        \"answer_id\": 5\n",
      "      },\n",
      "      {\n",
      "        \"answer\": \"playing wii\",\n",
      "        \"answer_confidence\": \"yes\",\n",
      "        \"answer_id\": 6\n",
      "      },\n",
      "      {\n",
      "        \"answer\": \"playing wii\",\n",
      "        \"answer_confidence\": \"yes\",\n",
      "        \"answer_id\": 7\n",
      "      },\n",
      "      {\n",
      "        \"answer\": \"playing wii bowling\",\n",
      "        \"answer_confidence\": \"yes\",\n",
      "        \"answer_id\": 8\n",
      "      },\n",
      "      {\n",
      "        \"answer\": \"playing wii\",\n",
      "        \"answer_confidence\": \"yes\",\n",
      "        \"answer_id\": 9\n",
      "      },\n",
      "      {\n",
      "        \"answer\": \"playing wii\",\n",
      "        \"answer_confidence\": \"yes\",\n",
      "        \"answer_id\": 10\n",
      "      }\n",
      "    ],\n",
      "    \"id_image\": 192867,\n",
      "    \"answer_type\": \"other\",\n",
      "    \"question_id\": 192867009,\n",
      "    \"question\": \"What are the boys doing?\",\n",
      "    \"image\": {\n",
      "      \"src\": \"https://datasets-server.huggingface.co/cached-assets/Multimodal-Fatima/VQAv2_sample_train/--/d0aee2f08211c56141cd0fb1e3d942469a7c0d55/--/default/train/0/image/image.jpg?Expires=1754105140&Signature=GtAvUJ47CvG2lYizwJ-yIJTsS~WVSaCQ6q5KSJaNjU~90-0cb2p7IyxWH~ydHkaOD17hC5ukQeltMGPnpCDUHK4Eu01jm9CgvqzRrWi0TJ835kedoJJKQ-yHuUj0Ot0U3srYbnYLpcRbRqZ8pqsBX~zxsupkVFTSibtIwyDosPgdePaTulccnTCMhgEyIBVrt144KSm6mRV6Kyb7LZ5ihWABRT9QRfH7ObbxYMFOfXM-jFkjSFfMQkJideOGIw6QOAra20AUeb6XweMHFGeP5zPcbGLAOnnXbA7UfZ7jbcR~inMc08nyg9mwGUyXv0ItXrAgILWp2NvnlAk4BYHZyg__&Key-Pair-Id=K3EI6M078Z3AC3\",\n",
      "      \"height\": 427,\n",
      "      \"width\": 640\n",
      "    },\n",
      "    \"id\": 0,\n",
      "    \"clip_tags_ViT_L_14\": [\n",
      "      \"wii bowling\",\n",
      "      \"playing wii\",\n",
      "      \"wii contoller\",\n",
      "      \"wii golfer\",\n",
      "      \"wii platform\"\n",
      "    ],\n",
      "    \"blip_caption\": \"two kids playing a video game\",\n",
      "    \"DETA_detections_deta_swin_large_o365_coco_classes\": [\n",
      "      {\n",
      "        \"attribute\": \"\",\n",
      "        \"box\": [\n",
      "          425.24761962890625,\n",
      "          273.3645324707031,\n",
      "          564.08056640625,\n",
      "          427.6876525878906\n",
      "        ],\n",
      "        \"label\": \"Person\",\n",
      "        \"location\": \"lower right\",\n",
      "        \"ratio\": 0.07839992642402649,\n",
      "        \"size\": \"small\",\n",
      "        \"tag\": \"\"\n",
      "      },\n",
      "      {\n",
      "        \"attribute\": \"\",\n",
      "        \"box\": [\n",
      "          143.57852172851562,\n",
      "          362.78497314453125,\n",
      "          198.77154541015625,\n",
      "          406.2024230957031\n",
      "        ],\n",
      "        \"label\": \"Sneakers\",\n",
      "        \"location\": \"lower left\",\n",
      "        \"ratio\": 0.008768809959292412,\n",
      "        \"size\": \"small\",\n",
      "        \"tag\": \"\"\n",
      "      },\n",
      "      {\n",
      "        \"attribute\": \"\",\n",
      "        \"box\": [\n",
      "          188.54576110839844,\n",
      "          339.6853942871094,\n",
      "          235.2300262451172,\n",
      "          359.9889221191406\n",
      "        ],\n",
      "        \"label\": \"Sneakers\",\n",
      "        \"location\": \"lower left\",\n",
      "        \"ratio\": 0.0034684399142861366,\n",
      "        \"size\": \"small\",\n",
      "        \"tag\": \"\"\n",
      "      },\n",
      "      {\n",
      "        \"attribute\": \"\",\n",
      "        \"box\": [\n",
      "          281.9493408203125,\n",
      "          -0.26072192192077637,\n",
      "          567.7162475585938,\n",
      "          203.73095703125\n",
      "        ],\n",
      "        \"label\": \"Monitor/TV\",\n",
      "        \"location\": \"upper middle\",\n",
      "        \"ratio\": 0.21331262588500977,\n",
      "        \"size\": \"small\",\n",
      "        \"tag\": \"\"\n",
      "      },\n",
      "      {\n",
      "        \"attribute\": \"\",\n",
      "        \"box\": [\n",
      "          142.7861328125,\n",
      "          74.63639831542969,\n",
      "          295.0985107421875,\n",
      "          411.4485168457031\n",
      "        ],\n",
      "        \"label\": \"Person\",\n",
      "        \"location\": \"middle\",\n",
      "        \"ratio\": 0.18772195279598236,\n",
      "        \"size\": \"small\",\n",
      "        \"tag\": \"\"\n",
      "      },\n",
      "      {\n",
      "        \"attribute\": \"\",\n",
      "        \"box\": [\n",
      "          4.626402854919434,\n",
      "          205.30767822265625,\n",
      "          108.13887023925781,\n",
      "          267.94207763671875\n",
      "        ],\n",
      "        \"label\": \"Storage box\",\n",
      "        \"location\": \"left\",\n",
      "        \"ratio\": 0.02372453548014164,\n",
      "        \"size\": \"small\",\n",
      "        \"tag\": \"\"\n",
      "      },\n",
      "      {\n",
      "        \"attribute\": \"\",\n",
      "        \"box\": [\n",
      "          92.9361343383789,\n",
      "          207.70474243164062,\n",
      "          168.2117462158203,\n",
      "          269.6752014160156\n",
      "        ],\n",
      "        \"label\": \"Storage box\",\n",
      "        \"location\": \"left\",\n",
      "        \"ratio\": 0.01706990785896778,\n",
      "        \"size\": \"small\",\n",
      "        \"tag\": \"\"\n",
      "      },\n",
      "      {\n",
      "        \"attribute\": \"\",\n",
      "        \"box\": [\n",
      "          303.18719482421875,\n",
      "          178.3642120361328,\n",
      "          513.3319702148438,\n",
      "          279.4360046386719\n",
      "        ],\n",
      "        \"label\": \"Cabinet/shelf\",\n",
      "        \"location\": \"middle\",\n",
      "        \"ratio\": 0.07772141695022583,\n",
      "        \"size\": \"small\",\n",
      "        \"tag\": \"\"\n",
      "      },\n",
      "      {\n",
      "        \"attribute\": \"\",\n",
      "        \"box\": [\n",
      "          -0.8226585388183594,\n",
      "          134.1544647216797,\n",
      "          178.3409423828125,\n",
      "          270.17724609375\n",
      "        ],\n",
      "        \"label\": \"Desk\",\n",
      "        \"location\": \"left\",\n",
      "        \"ratio\": 0.08917714655399323,\n",
      "        \"size\": \"small\",\n",
      "        \"tag\": \"\"\n",
      "      },\n",
      "      {\n",
      "        \"attribute\": \"\",\n",
      "        \"box\": [\n",
      "          439.8805236816406,\n",
      "          406.989501953125,\n",
      "          563.626220703125,\n",
      "          426.7799987792969\n",
      "        ],\n",
      "        \"label\": \"Chair\",\n",
      "        \"location\": \"lower right\",\n",
      "        \"ratio\": 0.00896146334707737,\n",
      "        \"size\": \"small\",\n",
      "        \"tag\": \"\"\n",
      "      },\n",
      "      {\n",
      "        \"attribute\": \"\",\n",
      "        \"box\": [\n",
      "          572.1739501953125,\n",
      "          2.783405065536499,\n",
      "          639.9483642578125,\n",
      "          425.2335205078125\n",
      "        ],\n",
      "        \"label\": \"Cabinet/shelf\",\n",
      "        \"location\": \"right\",\n",
      "        \"ratio\": 0.10476913303136826,\n",
      "        \"size\": \"small\",\n",
      "        \"tag\": \"\"\n",
      "      },\n",
      "      {\n",
      "        \"attribute\": \"\",\n",
      "        \"box\": [\n",
      "          303.2626037597656,\n",
      "          177.21414184570312,\n",
      "          512.484619140625,\n",
      "          279.2867126464844\n",
      "        ],\n",
      "        \"label\": \"Desk\",\n",
      "        \"location\": \"middle\",\n",
      "        \"ratio\": 0.0781463235616684,\n",
      "        \"size\": \"small\",\n",
      "        \"tag\": \"\"\n",
      "      },\n",
      "      {\n",
      "        \"attribute\": \"\",\n",
      "        \"box\": [\n",
      "          -0.8016300201416016,\n",
      "          133.23065185546875,\n",
      "          178.95077514648438,\n",
      "          297.201904296875\n",
      "        ],\n",
      "        \"label\": \"Cabinet/shelf\",\n",
      "        \"location\": \"left\",\n",
      "        \"ratio\": 0.10785358399152756,\n",
      "        \"size\": \"small\",\n",
      "        \"tag\": \"\"\n",
      "      }\n",
      "    ]\n",
      "  },\n",
      "  \"truncated_cells\": []\n",
      "}\n"
     ]
    }
   ],
   "source": [
    "vqa_data = load_api_data(url, 0, 20)"
   ]
  },
  {
   "cell_type": "code",
   "execution_count": 9,
   "metadata": {},
   "outputs": [
    {
     "ename": "NameError",
     "evalue": "name 'data' is not defined",
     "output_type": "error",
     "traceback": [
      "\u001b[0;31m---------------------------------------------------------------------------\u001b[0m",
      "\u001b[0;31mNameError\u001b[0m                                 Traceback (most recent call last)",
      "Cell \u001b[0;32mIn[9], line 1\u001b[0m\n\u001b[0;32m----> 1\u001b[0m \u001b[43mdata\u001b[49m\n",
      "\u001b[0;31mNameError\u001b[0m: name 'data' is not defined"
     ]
    }
   ],
   "source": [
    "data"
   ]
  },
  {
   "cell_type": "code",
   "execution_count": null,
   "metadata": {},
   "outputs": [],
   "source": []
  }
 ],
 "metadata": {
  "kernelspec": {
   "display_name": "base",
   "language": "python",
   "name": "python3"
  },
  "language_info": {
   "codemirror_mode": {
    "name": "ipython",
    "version": 3
   },
   "file_extension": ".py",
   "mimetype": "text/x-python",
   "name": "python",
   "nbconvert_exporter": "python",
   "pygments_lexer": "ipython3",
   "version": "3.12.9"
  }
 },
 "nbformat": 4,
 "nbformat_minor": 2
}
